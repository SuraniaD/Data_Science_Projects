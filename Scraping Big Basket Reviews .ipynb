{
 "cells": [
  {
   "cell_type": "code",
   "execution_count": 1,
   "metadata": {},
   "outputs": [
    {
     "name": "stdout",
     "output_type": "stream",
     "text": [
      "Note: you may need to restart the kernel to use updated packages.\n"
     ]
    }
   ],
   "source": [
    "pip install -qq google-play-scraper"
   ]
  },
  {
   "cell_type": "code",
   "execution_count": 2,
   "metadata": {},
   "outputs": [
    {
     "name": "stdout",
     "output_type": "stream",
     "text": [
      "Note: you may need to restart the kernel to use updated packages.\n"
     ]
    }
   ],
   "source": [
    "pip install -qq -U watermark"
   ]
  },
  {
   "cell_type": "code",
   "execution_count": 3,
   "metadata": {},
   "outputs": [
    {
     "name": "stdout",
     "output_type": "stream",
     "text": [
      "CPython 3.7.6\n",
      "IPython 7.12.0\n",
      "\n",
      "pandas 1.0.1\n",
      "matplotlib 3.1.3\n",
      "seaborn 0.10.0\n",
      "google_play_scraper 0.1.1\n"
     ]
    }
   ],
   "source": [
    "%reload_ext watermark\n",
    "%watermark -v -p pandas,matplotlib,seaborn,google_play_scraper"
   ]
  },
  {
   "cell_type": "code",
   "execution_count": 4,
   "metadata": {},
   "outputs": [],
   "source": [
    "import json\n",
    "import pandas as pd\n",
    "from tqdm import tqdm\n",
    "\n",
    "import seaborn as sns\n",
    "import matplotlib.pyplot as plt\n",
    "\n",
    "from pygments import highlight\n",
    "from pygments.lexers import JsonLexer\n",
    "from pygments.formatters import TerminalFormatter\n",
    "\n",
    "from google_play_scraper import Sort, reviews, app\n",
    "\n",
    "%matplotlib inline\n",
    "%config InlineBackend.figure_format='retina'\n",
    "\n",
    "sns.set(style='whitegrid', palette='muted', font_scale=1.2)"
   ]
  },
  {
   "cell_type": "code",
   "execution_count": 5,
   "metadata": {},
   "outputs": [],
   "source": [
    "app_packages = [\n",
    "    'com.bigbasket.mobileapp'\n",
    "]"
   ]
  },
  {
   "cell_type": "code",
   "execution_count": 6,
   "metadata": {},
   "outputs": [
    {
     "name": "stderr",
     "output_type": "stream",
     "text": [
      "100%|████████████████████████████████████████████████████████████████████████████████████| 1/1 [00:02<00:00,  2.19s/it]\n"
     ]
    }
   ],
   "source": [
    "app_infos = []\n",
    "\n",
    "for ap in tqdm(app_packages):\n",
    "  info = app(ap, lang='en', country='us')\n",
    "  del info['comments']\n",
    "  app_infos.append(info)"
   ]
  },
  {
   "cell_type": "code",
   "execution_count": 7,
   "metadata": {},
   "outputs": [],
   "source": [
    "def print_json(json_object):\n",
    "  json_str = json.dumps(\n",
    "    json_object, \n",
    "    indent=2, \n",
    "    sort_keys=True, \n",
    "    default=str\n",
    "  )\n",
    "  print(highlight(json_str, JsonLexer(), TerminalFormatter()))"
   ]
  },
  {
   "cell_type": "code",
   "execution_count": 8,
   "metadata": {},
   "outputs": [
    {
     "name": "stdout",
     "output_type": "stream",
     "text": [
      "{\n",
      "  \u001b[94m\"adSupported\"\u001b[39;49;00m: \u001b[34mnull\u001b[39;49;00m,\n",
      "  \u001b[94m\"androidVersion\"\u001b[39;49;00m: \u001b[33m\"4.1\"\u001b[39;49;00m,\n",
      "  \u001b[94m\"androidVersionText\"\u001b[39;49;00m: \u001b[33m\"4.1 and up\"\u001b[39;49;00m,\n",
      "  \u001b[94m\"appId\"\u001b[39;49;00m: \u001b[33m\"com.bigbasket.mobileapp\"\u001b[39;49;00m,\n",
      "  \u001b[94m\"containsAds\"\u001b[39;49;00m: \u001b[34mfalse\u001b[39;49;00m,\n",
      "  \u001b[94m\"contentRating\"\u001b[39;49;00m: \u001b[33m\"Everyone\"\u001b[39;49;00m,\n",
      "  \u001b[94m\"contentRatingDescription\"\u001b[39;49;00m: \u001b[34mnull\u001b[39;49;00m,\n",
      "  \u001b[94m\"currency\"\u001b[39;49;00m: \u001b[33m\"USD\"\u001b[39;49;00m,\n",
      "  \u001b[94m\"description\"\u001b[39;49;00m: \u001b[33m\"bigbasket is India\\u2019s leading online supermarket shopping app, trusted by 6 million+ happy customers and counting!\\r\\n\\r\\nInstall the bigbasket app now and get your groceries delivered in 25+ cities across India.\\r\\n\\r\\nShop from a vast range of 20,000+ products including farm-fresh fruits and vegetables, groceries, home & household essentials, pet care needs, organic products, beauty and hygiene, imported and gourmet & more at the best prices. Enjoy hassle-free online grocery shopping and contactless home delivery at just a click of a button.\\r\\n\\r\\nFEATURES AND SERVICES\\r\\n\\r\\nWhat to expect from us?\\r\\n\\r\\n* Wide range of products, including fresh fruits and vegetables: Choose from a vast collection of 20,000+ products across 1000+ national and international brands including Aashirvaad, Amul, Bisleri, Cadbury, Complan, Fresho, Haldiram, Himalaya, Horlicks, Kellogg\\u2019s, Lays, Lizol, Nandini, Nescafe, Nivea, Nutella, Patanjali, Saffola, Sunpure, Surf Excel, Vim, Zespri to name a few. And yes, we have a full range of fresh fruits and vegetables, procured directly from farmers!\\r\\n\\r\\n* Enjoy low prices and great offers: Buy at low prices with great offers including discounts, bundle pack offerings, promotions.\\r\\n\\r\\n* Fast and Secure Checkout: Pay by net-banking, credit and debit cards options and e-wallets.\\r\\n\\r\\n* Assured quality:  We source most of our fruits, vegetables and private label staples (bb Royal, bb Popular) directly from farmers. \\r\\n\\r\\n* On-time, every-time: We take pride in timely delivery and if you get any of the products after the stipulated time, you are entitled to a 10% refund.\\r\\n\\r\\n* Search in 7 languages: Our  app supports searching for items in seven regional languages. Search for \\u201cvendakkai\\u201d or \\u201cbhindi\\u201d or \\u201cladies finger\\u201d, we\\u2019ll get it right automatically.\\r\\n\\r\\n* Last-minute shopping? Sweets from the neighbourhood? : We have you covered with our 90-minute express delivery and specialty store offerings (only in select cities)\\r\\n\\r\\n* Easy search options: Easily shop from your past purchases with the help of SmartBasket, else use our various search options: scan the bar code search, give voice commands, use filters on categories or brands.\\r\\n\\r\\nPRESENT IN 25+ CITIES\\r\\n\\r\\nWe deliver in the following cities: Ahmedabad-Gandhinagar, Anand, Bengaluru/Bangalore, Bhopal, Chandigarh, Chennai, Coimbatore, Delhi NCR (including Gurgaon/Gurugram and Noida), Hyderabad, Indore, Kanpur, Kolkata, Lucknow, Mohali, Mumbai, Mysuru, Nagpur, Panchkula, Patna, Pune, Surat, Vadodara, Kochi and Vishakapatnam.\\r\\n\\r\\n\\r\\nFEEDBACK / APP SUGGESTIONS:\\r\\nAt bigbasket your shopping experience is our priority and we would love to know how we can improve our app as well as services. If you have any suggestions to improve our app, please mail us at productteam@bigbasket.com. For any inputs on our service we are at customerservice@bigbasket.com, https://www.facebook.com/Bigbasketcom or 18601231000.\"\u001b[39;49;00m,\n",
      "  \u001b[94m\"descriptionHTML\"\u001b[39;49;00m: \u001b[33m\"bigbasket is India\\u2019s leading online supermarket shopping app, trusted by 6 million+ happy customers and counting!<br><br>Install the bigbasket app now and get your groceries delivered in 25+ cities across India.<br><br>Shop from a vast range of 20,000+ products including farm-fresh fruits and vegetables, groceries, home &amp; household essentials, pet care needs, organic products, beauty and hygiene, imported and gourmet &amp; more at the best prices. Enjoy hassle-free online grocery shopping and contactless home delivery at just a click of a button.<br><br>FEATURES AND SERVICES<br><br>What to expect from us?<br><br>* Wide range of products, including fresh fruits and vegetables: Choose from a vast collection of 20,000+ products across 1000+ national and international brands including Aashirvaad, Amul, Bisleri, Cadbury, Complan, Fresho, Haldiram, Himalaya, Horlicks, Kellogg\\u2019s, Lays, Lizol, Nandini, Nescafe, Nivea, Nutella, Patanjali, Saffola, Sunpure, Surf Excel, Vim, Zespri to name a few. And yes, we have a full range of fresh fruits and vegetables, procured directly from farmers!<br><br>* Enjoy low prices and great offers: Buy at low prices with great offers including discounts, bundle pack offerings, promotions.<br><br>* Fast and Secure Checkout: Pay by net-banking, credit and debit cards options and e-wallets.<br><br>* Assured quality:  We source most of our fruits, vegetables and private label staples (bb Royal, bb Popular) directly from farmers. <br><br>* On-time, every-time: We take pride in timely delivery and if you get any of the products after the stipulated time, you are entitled to a 10% refund.<br><br>* Search in 7 languages: Our  app supports searching for items in seven regional languages. Search for \\u201cvendakkai\\u201d or \\u201cbhindi\\u201d or \\u201cladies finger\\u201d, we\\u2019ll get it right automatically.<br><br>* Last-minute shopping? Sweets from the neighbourhood? : We have you covered with our 90-minute express delivery and specialty store offerings (only in select cities)<br><br>* Easy search options: Easily shop from your past purchases with the help of SmartBasket, else use our various search options: scan the bar code search, give voice commands, use filters on categories or brands.<br><br>PRESENT IN 25+ CITIES<br><br>We deliver in the following cities: Ahmedabad-Gandhinagar, Anand, Bengaluru/Bangalore, Bhopal, Chandigarh, Chennai, Coimbatore, Delhi NCR (including Gurgaon/Gurugram and Noida), Hyderabad, Indore, Kanpur, Kolkata, Lucknow, Mohali, Mumbai, Mysuru, Nagpur, Panchkula, Patna, Pune, Surat, Vadodara, Kochi and Vishakapatnam.<br><br><br>FEEDBACK / APP SUGGESTIONS:<br>At bigbasket your shopping experience is our priority and we would love to know how we can improve our app as well as services. If you have any suggestions to improve our app, please mail us at productteam@bigbasket.com. For any inputs on our service we are at customerservice@bigbasket.com, https://www.facebook.com/Bigbasketcom or 18601231000.\"\u001b[39;49;00m,\n",
      "  \u001b[94m\"developer\"\u001b[39;49;00m: \u001b[33m\"Bigbasket.com\"\u001b[39;49;00m,\n",
      "  \u001b[94m\"developerAddress\"\u001b[39;49;00m: \u001b[34mnull\u001b[39;49;00m,\n",
      "  \u001b[94m\"developerEmail\"\u001b[39;49;00m: \u001b[33m\"customerservice@bigbasket.com\"\u001b[39;49;00m,\n",
      "  \u001b[94m\"developerId\"\u001b[39;49;00m: \u001b[33m\"Bigbasket.com\"\u001b[39;49;00m,\n",
      "  \u001b[94m\"developerInternalID\"\u001b[39;49;00m: \u001b[33m\"6960292945543810299\"\u001b[39;49;00m,\n",
      "  \u001b[94m\"developerWebsite\"\u001b[39;49;00m: \u001b[33m\"https://www.bigbasket.com\"\u001b[39;49;00m,\n",
      "  \u001b[94m\"free\"\u001b[39;49;00m: \u001b[34mtrue\u001b[39;49;00m,\n",
      "  \u001b[94m\"genre\"\u001b[39;49;00m: \u001b[33m\"Shopping\"\u001b[39;49;00m,\n",
      "  \u001b[94m\"genreId\"\u001b[39;49;00m: \u001b[33m\"SHOPPING\"\u001b[39;49;00m,\n",
      "  \u001b[94m\"headerImage\"\u001b[39;49;00m: \u001b[33m\"https://lh3.googleusercontent.com/tASBJD6ZNHKfE7m10DI2fcpDR71iGAELhqoEJVfcQPMpaa-0jC6trZKLZcVt9JiX4Ns\"\u001b[39;49;00m,\n",
      "  \u001b[94m\"histogram\"\u001b[39;49;00m: [\n",
      "    \u001b[34m59015\u001b[39;49;00m,\n",
      "    \u001b[34m10469\u001b[39;49;00m,\n",
      "    \u001b[34m19715\u001b[39;49;00m,\n",
      "    \u001b[34m101035\u001b[39;49;00m,\n",
      "    \u001b[34m334929\u001b[39;49;00m\n",
      "  ],\n",
      "  \u001b[94m\"icon\"\u001b[39;49;00m: \u001b[33m\"https://lh3.googleusercontent.com/EuiZnkT8aEKjXDLX74DTp1VRIwWaeRa8Dvo-LOGAxy1FPQ8GzABTIRenksiM-A7Oz48g\"\u001b[39;49;00m,\n",
      "  \u001b[94m\"inAppProductPrice\"\u001b[39;49;00m: \u001b[34mnull\u001b[39;49;00m,\n",
      "  \u001b[94m\"installs\"\u001b[39;49;00m: \u001b[33m\"10,000,000+\"\u001b[39;49;00m,\n",
      "  \u001b[94m\"minInstalls\"\u001b[39;49;00m: \u001b[34m10000000\u001b[39;49;00m,\n",
      "  \u001b[94m\"offersIAP\"\u001b[39;49;00m: \u001b[34mfalse\u001b[39;49;00m,\n",
      "  \u001b[94m\"originalPrice\"\u001b[39;49;00m: \u001b[34mnull\u001b[39;49;00m,\n",
      "  \u001b[94m\"price\"\u001b[39;49;00m: \u001b[34m0\u001b[39;49;00m,\n",
      "  \u001b[94m\"privacyPolicy\"\u001b[39;49;00m: \u001b[33m\"https://www.bigbasket.com/privacy-policy/\"\u001b[39;49;00m,\n",
      "  \u001b[94m\"ratings\"\u001b[39;49;00m: \u001b[34m525163\u001b[39;49;00m,\n",
      "  \u001b[94m\"recentChanges\"\u001b[39;49;00m: \u001b[33m\"\\u2022 Bug fixes and optimizations\"\u001b[39;49;00m,\n",
      "  \u001b[94m\"recentChangesHTML\"\u001b[39;49;00m: \u001b[33m\"\\u2022 Bug fixes and optimizations\"\u001b[39;49;00m,\n",
      "  \u001b[94m\"released\"\u001b[39;49;00m: \u001b[33m\"May 27, 2013\"\u001b[39;49;00m,\n",
      "  \u001b[94m\"reviews\"\u001b[39;49;00m: \u001b[34m164862\u001b[39;49;00m,\n",
      "  \u001b[94m\"sale\"\u001b[39;49;00m: \u001b[34mfalse\u001b[39;49;00m,\n",
      "  \u001b[94m\"saleText\"\u001b[39;49;00m: \u001b[34mnull\u001b[39;49;00m,\n",
      "  \u001b[94m\"saleTime\"\u001b[39;49;00m: \u001b[34mnull\u001b[39;49;00m,\n",
      "  \u001b[94m\"score\"\u001b[39;49;00m: \u001b[34m4.2232203\u001b[39;49;00m,\n",
      "  \u001b[94m\"screenshots\"\u001b[39;49;00m: [\n",
      "    \u001b[33m\"https://lh3.googleusercontent.com/eA9DaGJ3fwMq4B2ttc-SsIe8IjysQ9VjUjgCdnlkqxxuWgna4TbNobaKW7Qyo0pXgxI\"\u001b[39;49;00m,\n",
      "    \u001b[33m\"https://lh3.googleusercontent.com/2htO--3COLz7_u6-4ejHdR32EcsGa-pGQgN01NIKW_V0cQYSiqsxns-iOLNxafmelrk\"\u001b[39;49;00m,\n",
      "    \u001b[33m\"https://lh3.googleusercontent.com/rkO0WCxwEVsAKfTijY6n-cV1v8sgexdLGbauaUa0KP1VdcwxLVSNZOLlvIZbo4ONoEo2\"\u001b[39;49;00m,\n",
      "    \u001b[33m\"https://lh3.googleusercontent.com/u-HW4R0VhJHJl_URf_0j1EbCKhU4lq_lRBv9nfXm86vCt-n_AGz_atUQWMmCMCJm2qde\"\u001b[39;49;00m,\n",
      "    \u001b[33m\"https://lh3.googleusercontent.com/-zvjYY1J3mlVSd2Xax4O9y6K59ZH-hh4KrHajlm4r2bRLgpyLX2r2EgtImJax6UTXkrI\"\u001b[39;49;00m,\n",
      "    \u001b[33m\"https://lh3.googleusercontent.com/iSHKAGZZdzvbZOTslhd6ZeDFYDCZEzFXvQH1jEvNvy1Ga4YgTO0UX3Kchp3LvjkaJEM\"\u001b[39;49;00m,\n",
      "    \u001b[33m\"https://lh3.googleusercontent.com/rx9bj-aPbYEHDzzGlEIwEOROyl6EiB6zUfwKowa9veAuAvhliDHlvkP-7z5geTlW7EBz\"\u001b[39;49;00m\n",
      "  ],\n",
      "  \u001b[94m\"size\"\u001b[39;49;00m: \u001b[33m\"21M\"\u001b[39;49;00m,\n",
      "  \u001b[94m\"summary\"\u001b[39;49;00m: \u001b[33m\"India's No.1 Online Grocery Shopping App - Over 6 million happy customers!\"\u001b[39;49;00m,\n",
      "  \u001b[94m\"summaryHTML\"\u001b[39;49;00m: \u001b[33m\"India&#39;s No.1 Online Grocery Shopping App - Over 6 million happy customers!\"\u001b[39;49;00m,\n",
      "  \u001b[94m\"title\"\u001b[39;49;00m: \u001b[33m\"bigbasket - Online Grocery Shopping App\"\u001b[39;49;00m,\n",
      "  \u001b[94m\"updated\"\u001b[39;49;00m: \u001b[34m1599655149\u001b[39;49;00m,\n",
      "  \u001b[94m\"url\"\u001b[39;49;00m: \u001b[33m\"https://play.google.com/store/apps/details?id=com.bigbasket.mobileapp&hl=en&gl=us\"\u001b[39;49;00m,\n",
      "  \u001b[94m\"version\"\u001b[39;49;00m: \u001b[33m\"5.2.3\"\u001b[39;49;00m,\n",
      "  \u001b[94m\"video\"\u001b[39;49;00m: \u001b[33m\"https://www.youtube.com/embed/8B5aCLGlD-Q?ps=play&vq=large&rel=0&autohide=1&showinfo=0\"\u001b[39;49;00m,\n",
      "  \u001b[94m\"videoImage\"\u001b[39;49;00m: \u001b[33m\"https://i.ytimg.com/vi/8B5aCLGlD-Q/hqdefault.jpg\"\u001b[39;49;00m\n",
      "}\n",
      "\n"
     ]
    }
   ],
   "source": [
    "print_json(app_infos[0])"
   ]
  },
  {
   "cell_type": "code",
   "execution_count": 11,
   "metadata": {},
   "outputs": [],
   "source": [
    "app_infos_df = pd.DataFrame(app_infos)\n",
    "app_infos_df.to_csv('apps.csv', index=None, header=True)"
   ]
  },
  {
   "cell_type": "code",
   "execution_count": 19,
   "metadata": {},
   "outputs": [
    {
     "name": "stderr",
     "output_type": "stream",
     "text": [
      "100%|████████████████████████████████████████████████████████████████████████████████████| 1/1 [01:18<00:00, 78.29s/it]\n"
     ]
    }
   ],
   "source": [
    "app_reviews = []\n",
    "\n",
    "for ap in tqdm(app_packages):\n",
    "  for score in list(range(1, 6)):\n",
    "    for sort_order in [Sort.MOST_RELEVANT, Sort.NEWEST]:\n",
    "      rvs, _ = reviews(\n",
    "        ap,\n",
    "        lang='en',\n",
    "        country='us',\n",
    "        sort=sort_order,\n",
    "        count= 1000 if score == 3 else 800,\n",
    "        filter_score_with=score\n",
    "      )\n",
    "      for r in rvs:\n",
    "        r['sortOrder'] = 'most_relevant' if sort_order == Sort.MOST_RELEVANT else 'newest'\n",
    "        r['appId'] = ap\n",
    "      app_reviews.extend(rvs)"
   ]
  },
  {
   "cell_type": "code",
   "execution_count": 20,
   "metadata": {},
   "outputs": [
    {
     "name": "stdout",
     "output_type": "stream",
     "text": [
      "{\n",
      "  \u001b[94m\"appId\"\u001b[39;49;00m: \u001b[33m\"com.bigbasket.mobileapp\"\u001b[39;49;00m,\n",
      "  \u001b[94m\"at\"\u001b[39;49;00m: \u001b[33m\"2020-09-11 09:16:28\"\u001b[39;49;00m,\n",
      "  \u001b[94m\"content\"\u001b[39;49;00m: \u001b[33m\"Big number game,not at all reasonable prices and the worst part is all the discounts they offer through credit card is just fake,before you pay it shows cant proceds right now.But without discount it really works good. Please dont fall into the trap,I suggest u better order it from your nearby store. On veggies and hand packed items they tag double price and then offer discount. No transparency at all.. worst experience\"\u001b[39;49;00m,\n",
      "  \u001b[94m\"repliedAt\"\u001b[39;49;00m: \u001b[33m\"2020-09-11 09:38:55\"\u001b[39;49;00m,\n",
      "  \u001b[94m\"replyContent\"\u001b[39;49;00m: \u001b[33m\"We are disappointed to know that your experience with us was not satisfactory. Could you please share your contact details with us on appsupport@bigbasket.com so that we can get in touch with you and resolve the issue.\"\u001b[39;49;00m,\n",
      "  \u001b[94m\"reviewCreatedVersion\"\u001b[39;49;00m: \u001b[33m\"5.2.5\"\u001b[39;49;00m,\n",
      "  \u001b[94m\"reviewId\"\u001b[39;49;00m: \u001b[33m\"gp:AOqpTOEq64KnW7wV7BGf2KxRP23p54_EyHv2JzwUQPyVifmsYd6E6uNT2fCB-rYJiChmB_VIT02U7RIf_GFNAQ\"\u001b[39;49;00m,\n",
      "  \u001b[94m\"score\"\u001b[39;49;00m: \u001b[34m1\u001b[39;49;00m,\n",
      "  \u001b[94m\"sortOrder\"\u001b[39;49;00m: \u001b[33m\"most_relevant\"\u001b[39;49;00m,\n",
      "  \u001b[94m\"thumbsUpCount\"\u001b[39;49;00m: \u001b[34m80\u001b[39;49;00m,\n",
      "  \u001b[94m\"userImage\"\u001b[39;49;00m: \u001b[33m\"https://lh3.googleusercontent.com/a-/AOh14GgwB5Mjj4aCQtowea-_-tyfehAYXaDAfnaYwHEIMQ\"\u001b[39;49;00m,\n",
      "  \u001b[94m\"userName\"\u001b[39;49;00m: \u001b[33m\"Oh Baby!!!\"\u001b[39;49;00m\n",
      "}\n",
      "\n"
     ]
    }
   ],
   "source": [
    "print_json(app_reviews[0])"
   ]
  },
  {
   "cell_type": "code",
   "execution_count": 21,
   "metadata": {},
   "outputs": [
    {
     "data": {
      "text/plain": [
       "8400"
      ]
     },
     "execution_count": 21,
     "metadata": {},
     "output_type": "execute_result"
    }
   ],
   "source": [
    "len(app_reviews)"
   ]
  },
  {
   "cell_type": "code",
   "execution_count": 23,
   "metadata": {},
   "outputs": [],
   "source": [
    "app_reviews_df = pd.DataFrame(app_reviews)\n",
    "app_reviews_df.to_csv('reviewsff.csv', index=None, header=True)"
   ]
  },
  {
   "cell_type": "code",
   "execution_count": null,
   "metadata": {},
   "outputs": [],
   "source": []
  }
 ],
 "metadata": {
  "kernelspec": {
   "display_name": "Python 3",
   "language": "python",
   "name": "python3"
  },
  "language_info": {
   "codemirror_mode": {
    "name": "ipython",
    "version": 3
   },
   "file_extension": ".py",
   "mimetype": "text/x-python",
   "name": "python",
   "nbconvert_exporter": "python",
   "pygments_lexer": "ipython3",
   "version": "3.7.6"
  }
 },
 "nbformat": 4,
 "nbformat_minor": 4
}
